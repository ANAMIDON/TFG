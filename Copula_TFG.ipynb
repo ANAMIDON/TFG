{
 "cells": [
  {
   "cell_type": "code",
   "execution_count": null,
   "id": "6c939451",
   "metadata": {},
   "outputs": [],
   "source": [
    "# Información sobre las librerías utilizadas"
   ]
  },
  {
   "cell_type": "markdown",
   "id": "81db2656",
   "metadata": {},
   "source": [
    "https://colab.research.google.com/drive/1XCwu7NaCYXf3kkhlx4Iei4w2KrXzr1zo?usp=sharing"
   ]
  },
  {
   "cell_type": "markdown",
   "id": "986c1d0d",
   "metadata": {},
   "source": [
    "https://docs.sdv.dev/sdv/single-table-data/data-preparation/single-table-metadata-api"
   ]
  },
  {
   "cell_type": "markdown",
   "id": "87e4a647",
   "metadata": {},
   "source": [
    "# Importamos librerías"
   ]
  },
  {
   "cell_type": "code",
   "execution_count": null,
   "id": "c393264f",
   "metadata": {},
   "outputs": [],
   "source": [
    "import pandas as pd"
   ]
  },
  {
   "cell_type": "markdown",
   "id": "eb7925a0",
   "metadata": {},
   "source": [
    "## Cargamos los datos"
   ]
  },
  {
   "cell_type": "code",
   "execution_count": null,
   "id": "ec4d05b2",
   "metadata": {},
   "outputs": [],
   "source": [
    "df_inicial = pd.read_excel('C:/Users/amidonga/Documents/TFG/dfFalso.xlsx')"
   ]
  },
  {
   "cell_type": "code",
   "execution_count": null,
   "id": "0edbfa86",
   "metadata": {},
   "outputs": [],
   "source": [
    "df_inicial"
   ]
  },
  {
   "cell_type": "markdown",
   "id": "e4a03339",
   "metadata": {},
   "source": [
    "# Contrucción de datos sintéticos"
   ]
  },
  {
   "cell_type": "markdown",
   "id": "7c857d97",
   "metadata": {},
   "source": [
    "## Synthesizer\n",
    "Un SDV **synthesizer** es un objeto utilizado para crear datos sintéticos. Utiliza una cópula para imitar los patrones de los datos reales y generar datos sintéticos. "
   ]
  },
  {
   "cell_type": "markdown",
   "id": "be99dc56",
   "metadata": {},
   "source": [
    "### Importamos las librerías necesarias"
   ]
  },
  {
   "cell_type": "code",
   "execution_count": null,
   "id": "8b511b67",
   "metadata": {},
   "outputs": [],
   "source": [
    "from sdv.single_table import GaussianCopulaSynthesizer\n",
    "from sdv.metadata import SingleTableMetadata"
   ]
  },
  {
   "cell_type": "markdown",
   "id": "8087dba9",
   "metadata": {},
   "source": [
    "### Ajustamos los tipos de datos"
   ]
  },
  {
   "cell_type": "code",
   "execution_count": null,
   "id": "6bd01775",
   "metadata": {},
   "outputs": [],
   "source": [
    "metadata = {\n",
    "    \"METADATA_SPEC_VERSION\": \"SINGLE_TABLE_V1\",\n",
    "    \"primary_key\": None,\n",
    "    \"columns\": {\n",
    "        \"Comunidad Autónoma\": {\n",
    "            \"sdtype\": \"categorical\"\n",
    "        },\n",
    "        \"Edad\": {\n",
    "            \"sdtype\": \"numerical\",\n",
    "            \"computer_representation\": \"Int\"\n",
    "        },\n",
    "        \"Procedencia\": {\n",
    "            \"sdtype\": \"categorical\"\n",
    "        },\n",
    "        \"Sexo\": {\n",
    "            \"sdtype\": \"categorical\"\n",
    "        },\n",
    "        \"Situación de dependencia\": {\n",
    "            \"sdtype\": \"categorical\"\n",
    "        },\n",
    "        \"Sector económico\": {\n",
    "            \"sdtype\": \"categorical\"\n",
    "        },\n",
    "        \"Renta anual neta\": {\n",
    "            \"sdtype\": \"numerical\",\n",
    "            \"computer_representation\": \"Float\"\n",
    "        },\n",
    "        \"Estado civil\": {\n",
    "            \"sdtype\": \"categorical\"\n",
    "        },\n",
    "        \"Número de hijos\": {\n",
    "            \"sdtype\": \"numerical\",\n",
    "            \"computer_representation\": \"Int\"\n",
    "        }\n",
    "    }\n",
    "}\n",
    "\n",
    "\n",
    "metadata = SingleTableMetadata()\n",
    "metadata.detect_from_dataframe(data=df_inicial)\n",
    "\n",
    "synthesizer = GaussianCopulaSynthesizer(metadata)\n",
    "synthesizer.fit(df_inicial)\n",
    "synthetic_data = synthesizer.sample(num_rows= 100000)\n",
    "synthetic_data.head()"
   ]
  },
  {
   "cell_type": "markdown",
   "id": "ae4c72b3",
   "metadata": {},
   "source": [
    "### Definimos criterios de perturbación para evitar errores"
   ]
  },
  {
   "cell_type": "code",
   "execution_count": null,
   "id": "d49414fa",
   "metadata": {},
   "outputs": [],
   "source": [
    "synthetic_data.loc[synthetic_data['Edad'] >= 65, 'Sector económico'] = 'Pensionista'\n",
    "synthetic_data.loc[synthetic_data['Edad'] <= 14, 'Sector económico'] = 'Estudiante'\n",
    "synthetic_data.loc[synthetic_data['Edad'] <= 17, 'Estado civil'] = 'Solteros/Solteras'\n",
    "synthetic_data.loc[synthetic_data['Edad'] <= 14, 'Número de hijos'] = 0\n",
    "synthetic_data.loc[((synthetic_data['Edad'] <= 20) &(synthetic_data['Número de hijos'] >1)), 'Número de hijos'] = 0\n",
    "synthetic_data.loc[synthetic_data['Edad'] <= 14, 'Renta anual neta'] = 0"
   ]
  },
  {
   "cell_type": "markdown",
   "id": "2cb1d414",
   "metadata": {},
   "source": [
    "## Comparación de los datos sintéticos y los datos reales"
   ]
  },
  {
   "cell_type": "code",
   "execution_count": null,
   "id": "951d893a",
   "metadata": {},
   "outputs": [],
   "source": [
    "from sdv.evaluation.single_table import evaluate_quality"
   ]
  },
  {
   "cell_type": "code",
   "execution_count": null,
   "id": "c8647de4",
   "metadata": {},
   "outputs": [],
   "source": [
    "quality_report = evaluate_quality(\n",
    "    df_inicial,\n",
    "    synthetic_data,\n",
    "    metadata\n",
    ")"
   ]
  },
  {
   "cell_type": "markdown",
   "id": "1c6566ce",
   "metadata": {},
   "source": [
    "\n",
    "El reporte nos permite visualizar las diferentes propiedades de los datos que la cópula ha logrado capturar. La siguiente visualización nos muestra qué columnas han conseguido capturarse mejor."
   ]
  },
  {
   "cell_type": "code",
   "execution_count": null,
   "id": "d9901c1c",
   "metadata": {},
   "outputs": [],
   "source": [
    "quality_report.get_visualization('Column Shapes')"
   ]
  },
  {
   "cell_type": "markdown",
   "id": "c8f06a16",
   "metadata": {},
   "source": [
    "## Visualización de los datos\n",
    "Visualizamos los datos reales y sintéticos enfrentados entre sí.\n"
   ]
  },
  {
   "cell_type": "code",
   "execution_count": null,
   "id": "e2299787",
   "metadata": {},
   "outputs": [],
   "source": [
    "from sdv.evaluation.single_table import get_column_plot\n",
    "import matplotlib.pyplot as plt"
   ]
  },
  {
   "cell_type": "code",
   "execution_count": null,
   "id": "d8219d14",
   "metadata": {},
   "outputs": [],
   "source": [
    "fig = get_column_plot(\n",
    "    real_data=df_inicial,\n",
    "    synthetic_data=synthetic_data,\n",
    "    column_name='Sexo',\n",
    "    metadata=metadata\n",
    ")\n",
    "\n",
    "fig.show()"
   ]
  },
  {
   "cell_type": "code",
   "execution_count": null,
   "id": "dafd72dd",
   "metadata": {},
   "outputs": [],
   "source": [
    "fig = get_column_plot(\n",
    "    real_data=df_inicial,\n",
    "    synthetic_data=synthetic_data,\n",
    "    column_name='Comunidad Autónoma',\n",
    "    metadata=metadata\n",
    ")\n",
    "    \n",
    "fig.show()"
   ]
  },
  {
   "cell_type": "code",
   "execution_count": null,
   "id": "f6b09258",
   "metadata": {},
   "outputs": [],
   "source": [
    "fig = get_column_plot(\n",
    "    real_data=df_inicial,\n",
    "    synthetic_data=synthetic_data,\n",
    "    column_name='Edad',\n",
    "    metadata=metadata\n",
    ")\n",
    "    \n",
    "fig.show()"
   ]
  },
  {
   "cell_type": "code",
   "execution_count": null,
   "id": "4ea067df",
   "metadata": {},
   "outputs": [],
   "source": [
    "fig = get_column_plot(\n",
    "    real_data=df_inicial,\n",
    "    synthetic_data=synthetic_data,\n",
    "    column_name='Situación de dependencia',\n",
    "    metadata=metadata\n",
    ")\n",
    "    \n",
    "fig.show()"
   ]
  },
  {
   "cell_type": "code",
   "execution_count": null,
   "id": "746a9407",
   "metadata": {},
   "outputs": [],
   "source": [
    "fig = get_column_plot(\n",
    "    real_data=df_inicial,\n",
    "    synthetic_data=synthetic_data,\n",
    "    column_name='Renta anual neta',\n",
    "    metadata=metadata\n",
    ")\n",
    "    \n",
    "fig.show()"
   ]
  },
  {
   "cell_type": "code",
   "execution_count": null,
   "id": "ccbcdbbc",
   "metadata": {},
   "outputs": [],
   "source": [
    "fig = get_column_plot(\n",
    "    real_data=df_inicial,\n",
    "    synthetic_data=synthetic_data,\n",
    "    column_name='Estado civil',\n",
    "    metadata=metadata\n",
    ")\n",
    "    \n",
    "fig.show()"
   ]
  },
  {
   "cell_type": "code",
   "execution_count": null,
   "id": "7863542d",
   "metadata": {},
   "outputs": [],
   "source": [
    "fig = get_column_plot(\n",
    "    real_data=df_inicial,\n",
    "    synthetic_data=synthetic_data,\n",
    "    column_name='Número de hijos',\n",
    "    metadata=metadata\n",
    ")\n",
    "    \n",
    "fig.show()"
   ]
  },
  {
   "cell_type": "code",
   "execution_count": null,
   "id": "3b1b249b",
   "metadata": {
    "scrolled": true
   },
   "outputs": [],
   "source": [
    "fig = get_column_plot(\n",
    "    real_data=df_inicial,\n",
    "    synthetic_data=synthetic_data,\n",
    "    column_name='Procedencia',\n",
    "    metadata=metadata\n",
    ")\n",
    "    \n",
    "fig.show()"
   ]
  },
  {
   "cell_type": "code",
   "execution_count": null,
   "id": "cb4d50a2",
   "metadata": {},
   "outputs": [],
   "source": [
    "fig = get_column_plot(\n",
    "    real_data=df_inicial,\n",
    "    synthetic_data=synthetic_data,\n",
    "    column_name='Sector económico',\n",
    "    metadata=metadata\n",
    ")\n",
    "    \n",
    "fig.show()"
   ]
  },
  {
   "cell_type": "code",
   "execution_count": null,
   "id": "302c21a0",
   "metadata": {},
   "outputs": [],
   "source": [
    "from sdv.evaluation.single_table import get_column_pair_plot"
   ]
  },
  {
   "cell_type": "code",
   "execution_count": null,
   "id": "f3ae0f61",
   "metadata": {},
   "outputs": [],
   "source": [
    "fig = get_column_pair_plot(\n",
    "    real_data=df_inicial,\n",
    "    synthetic_data=synthetic_data,\n",
    "    column_names=['Número de hijos','Edad'],\n",
    "    metadata=metadata\n",
    ")\n",
    "    \n",
    "fig.show()"
   ]
  },
  {
   "cell_type": "code",
   "execution_count": null,
   "id": "fa92343b",
   "metadata": {},
   "outputs": [],
   "source": [
    "fig = get_column_pair_plot(\n",
    "    real_data=df_inicial,\n",
    "    synthetic_data=synthetic_data,\n",
    "    column_names=['Renta anual neta','Edad'],\n",
    "    metadata=metadata\n",
    ")\n",
    "    \n",
    "fig.show()"
   ]
  },
  {
   "cell_type": "code",
   "execution_count": null,
   "id": "3c7c07bb",
   "metadata": {},
   "outputs": [],
   "source": [
    "fig = get_column_pair_plot(\n",
    "    real_data=df_inicial,\n",
    "    synthetic_data=synthetic_data,\n",
    "    column_names=['Renta anual neta','Sector económico'],\n",
    "    metadata=metadata\n",
    ")\n",
    "    \n",
    "fig.show()"
   ]
  },
  {
   "cell_type": "markdown",
   "id": "80b26129",
   "metadata": {},
   "source": [
    "## 1.6 Saving and Loading\n",
    "We can save the synthesizer to share with others and sample more synthetic data in the future."
   ]
  },
  {
   "cell_type": "code",
   "execution_count": null,
   "id": "8f1cc29d",
   "metadata": {},
   "outputs": [],
   "source": [
    "synthesizer.save('my_synthesizer.pkl')\n",
    "\n",
    "# synthesizer = GaussianCopulaSynthesizer.load('my_synthesizer.pkl')\n",
    "# synthetic_data.to_excel('C:/Users/amidonga/Documents/TFG/Datos_Sinteticos.xlsx',index=False)"
   ]
  },
  {
   "cell_type": "markdown",
   "id": "596d0624",
   "metadata": {},
   "source": [
    "# Asignación de los trámites a recomendar"
   ]
  },
  {
   "cell_type": "markdown",
   "id": "f710a70f",
   "metadata": {},
   "source": [
    "Beca para la matrícula universitaria. Ofreceremos esta ayuda a personas que tienen entre 18 y 15 años de edad, con una renta inferior al percentil 75 de la variable \"Renta anual neta\" y que aparecen en \"Sector económico\" como estudiantes. \n",
    "\n",
    "Beca para formación en idiomas. Ofreceremos esta ayuda a personas de edades superiores a los 14 años. \n",
    "\n",
    "Beca para la transformación digital. Ofreceremos esta ayuda a personas con más de 55 años de edad. \n",
    "\n",
    "Beca para el transporte. Ofreceremos esta ayuda a personas menores de 30 años. \n",
    "\n",
    "Ayuda al desempleo. Ofreceremos esta ayuda a las personas que en la variable \"Sector económico\" aparecen como parados. \n",
    "\n",
    "Ayuda para incentivar el consumo. Ofreceremos esta ayuda a personas mayores de 20 años. \n",
    "\n",
    "Ayuda para personas en que viven en zonas rurales. Ofreceremos esta ayuda a personas mayores de 20 años en comunidades autónomas distintas a la Comunidad de Madrid, Cataluña, País Vasco y la Comunidad Valenciana. \n"
   ]
  },
  {
   "cell_type": "markdown",
   "id": "92e6ec96",
   "metadata": {},
   "source": [
    "## T.1. Beca para la matrícula universitaria"
   ]
  },
  {
   "cell_type": "code",
   "execution_count": null,
   "id": "8333b231",
   "metadata": {},
   "outputs": [],
   "source": [
    "# Calcular el percentil 75 de la variable 'Renta anual neta' para obtener el umbral de renta:\n",
    "renta_threshold = synthetic_data['Renta anual neta'].quantile(0.75)\n",
    "\n",
    "#Filtrar el dataframe para obtener los registros que cumplen las condiciones especificadas:\n",
    "filtro_edad = (synthetic_data['Edad'] >= 18) & (synthetic_data['Edad'] <= 25)\n",
    "filtro_renta = synthetic_data['Renta anual neta'] < renta_threshold\n",
    "filtro_sector = synthetic_data['Sector económico'] == 'Estudiante'\n",
    "registros_cumplen_normas = synthetic_data[filtro_edad & filtro_renta & filtro_sector]\n",
    "\n",
    "#Definir los porcentajes x, y, y z que sumen 100 y representen la proporción de registros que\n",
    "# tendrán los valores 1, 0 y nulo respectivamente:\n",
    "x = 75  # Porcentaje de registros que tendrán el valor 1\n",
    "y = 20  # Porcentaje de registros que tendrán el valor 0\n",
    "z = 100 - x - y  # Porcentaje de registros que tendrán el valor nulo\n",
    "\n",
    "\n",
    "# Obtener una muestra aleatoria de los registros que cumplen las normas para asignarles el valor 1:\n",
    "num_registros = len(registros_cumplen_normas)\n",
    "num_x = int(num_registros * x / 100)\n",
    "num_y = int(num_registros * y / 100)\n",
    "\n",
    "# Crear la columna 'T.1.' y asignar los valores correspondientes:\n",
    "synthetic_data['T.1.'] = None  # Inicializar la columna con valores nulos\n",
    "\n",
    "# Asignar el valor 1 a un porcentaje x de registros aleatorios\n",
    "registros_x = registros_cumplen_normas.sample(num_x)\n",
    "synthetic_data.loc[registros_x.index, 'T.1.'] = 1\n",
    "\n",
    "# Asignar el valor 0 a un porcentaje y de registros aleatorios\n",
    "registros_y = registros_cumplen_normas.drop(registros_x.index).sample(num_y)\n",
    "synthetic_data.loc[registros_y.index, 'T.1.'] = 0\n",
    "\n"
   ]
  },
  {
   "cell_type": "markdown",
   "id": "6f7bb05c",
   "metadata": {},
   "source": [
    "## T.2. Beca para formación en idiomas"
   ]
  },
  {
   "cell_type": "code",
   "execution_count": null,
   "id": "0610eaca",
   "metadata": {},
   "outputs": [],
   "source": [
    "#Filtrar el dataframe para obtener los registros que cumplen las condiciones especificadas:\n",
    "filtro_edad = (synthetic_data['Edad'] >= 14)\n",
    "registros_cumplen_normas = synthetic_data[filtro_edad]\n",
    "\n",
    "#Definir los porcentajes x, y, y z que sumen 100 y representen la proporción de registros que\n",
    "# tendrán los valores 1, 0 y nulo respectivamente:\n",
    "x = 55  # Porcentaje de registros que tendrán el valor 1\n",
    "y = 30  # Porcentaje de registros que tendrán el valor 0\n",
    "z = 100 - x - y  # Porcentaje de registros que tendrán el valor nulo\n",
    "\n",
    "\n",
    "# Obtener una muestra aleatoria de los registros que cumplen las normas para asignarles el valor 1:\n",
    "num_registros = len(registros_cumplen_normas)\n",
    "num_x = int(num_registros * x / 100)\n",
    "num_y = int(num_registros * y / 100)\n",
    "\n",
    "# Crear la columna 'T.1.' y asignar los valores correspondientes:\n",
    "synthetic_data['T.2.'] = None  # Inicializar la columna con valores nulos\n",
    "\n",
    "# Asignar el valor 1 a un porcentaje x de registros aleatorios\n",
    "registros_x = registros_cumplen_normas.sample(num_x)\n",
    "synthetic_data.loc[registros_x.index, 'T.2.'] = 1\n",
    "\n",
    "# Asignar el valor 0 a un porcentaje y de registros aleatorios\n",
    "registros_y = registros_cumplen_normas.drop(registros_x.index).sample(num_y)\n",
    "synthetic_data.loc[registros_y.index, 'T.2.'] = 0"
   ]
  },
  {
   "cell_type": "markdown",
   "id": "6f9bb7b9",
   "metadata": {},
   "source": [
    "## T.3. Beca para la transformación digital"
   ]
  },
  {
   "cell_type": "code",
   "execution_count": null,
   "id": "adc2f831",
   "metadata": {},
   "outputs": [],
   "source": [
    "#Filtrar el dataframe para obtener los registros que cumplen las condiciones especificadas:\n",
    "filtro_edad = (synthetic_data['Edad'] >= 55) \n",
    "registros_cumplen_normas = synthetic_data[filtro_edad]\n",
    "\n",
    "#Definir los porcentajes x, y, y z que sumen 100 y representen la proporción de registros que\n",
    "# tendrán los valores 1, 0 y nulo respectivamente:\n",
    "x = 50  # Porcentaje de registros que tendrán el valor 1\n",
    "y = 35  # Porcentaje de registros que tendrán el valor 0\n",
    "z = 100 - x - y  # Porcentaje de registros que tendrán el valor nulo\n",
    "\n",
    "\n",
    "# Obtener una muestra aleatoria de los registros que cumplen las normas para asignarles el valor 1:\n",
    "num_registros = len(registros_cumplen_normas)\n",
    "num_x = int(num_registros * x / 100)\n",
    "num_y = int(num_registros * y / 100)\n",
    "\n",
    "# Crear la columna 'T.1.' y asignar los valores correspondientes:\n",
    "synthetic_data['T.3.'] = None  # Inicializar la columna con valores nulos\n",
    "\n",
    "# Asignar el valor 1 a un porcentaje x de registros aleatorios\n",
    "registros_x = registros_cumplen_normas.sample(num_x)\n",
    "synthetic_data.loc[registros_x.index, 'T.3.'] = 1\n",
    "\n",
    "# Asignar el valor 0 a un porcentaje y de registros aleatorios\n",
    "registros_y = registros_cumplen_normas.drop(registros_x.index).sample(num_y)\n",
    "synthetic_data.loc[registros_y.index, 'T.3.'] = 0"
   ]
  },
  {
   "cell_type": "markdown",
   "id": "91f81911",
   "metadata": {},
   "source": [
    "## T.4. Beca para el transporte"
   ]
  },
  {
   "cell_type": "code",
   "execution_count": null,
   "id": "50bc9b5f",
   "metadata": {},
   "outputs": [],
   "source": [
    "#Filtrar el dataframe para obtener los registros que cumplen las condiciones especificadas:\n",
    "filtro_edad = (synthetic_data['Edad'] < 30) \n",
    "registros_cumplen_normas = synthetic_data[filtro_edad]\n",
    "\n",
    "#Definir los porcentajes x, y, y z que sumen 100 y representen la proporción de registros que\n",
    "# tendrán los valores 1, 0 y nulo respectivamente:\n",
    "x = 85  # Porcentaje de registros que tendrán el valor 1\n",
    "y = 10  # Porcentaje de registros que tendrán el valor 0\n",
    "z = 100 - x - y  # Porcentaje de registros que tendrán el valor nulo\n",
    "\n",
    "\n",
    "# Obtener una muestra aleatoria de los registros que cumplen las normas para asignarles el valor 1:\n",
    "num_registros = len(registros_cumplen_normas)\n",
    "num_x = int(num_registros * x / 100)\n",
    "num_y = int(num_registros * y / 100)\n",
    "\n",
    "# Crear la columna 'T.1.' y asignar los valores correspondientes:\n",
    "synthetic_data['T.4.'] = None  # Inicializar la columna con valores nulos\n",
    "\n",
    "# Asignar el valor 1 a un porcentaje x de registros aleatorios\n",
    "registros_x = registros_cumplen_normas.sample(num_x)\n",
    "synthetic_data.loc[registros_x.index, 'T.4.'] = 1\n",
    "\n",
    "# Asignar el valor 0 a un porcentaje y de registros aleatorios\n",
    "registros_y = registros_cumplen_normas.drop(registros_x.index).sample(num_y)\n",
    "synthetic_data.loc[registros_y.index, 'T.4.'] = 0"
   ]
  },
  {
   "cell_type": "markdown",
   "id": "a30bda60",
   "metadata": {},
   "source": [
    "## T.5. Ayuda al desempleo"
   ]
  },
  {
   "cell_type": "code",
   "execution_count": null,
   "id": "44b6468f",
   "metadata": {},
   "outputs": [],
   "source": [
    "#Filtrar el dataframe para obtener los registros que cumplen las condiciones especificadas:\n",
    "filtro_desempleo = (synthetic_data['Sector económico'] == 'Parados') \n",
    "registros_cumplen_normas = synthetic_data[filtro_desempleo]\n",
    "\n",
    "#Definir los porcentajes x, y, y z que sumen 100 y representen la proporción de registros que\n",
    "# tendrán los valores 1, 0 y nulo respectivamente:\n",
    "x = 85  # Porcentaje de registros que tendrán el valor 1\n",
    "y = 10  # Porcentaje de registros que tendrán el valor 0\n",
    "z = 100 - x - y  # Porcentaje de registros que tendrán el valor nulo\n",
    "\n",
    "\n",
    "# Obtener una muestra aleatoria de los registros que cumplen las normas para asignarles el valor 1:\n",
    "num_registros = len(registros_cumplen_normas)\n",
    "num_x = int(num_registros * x / 100)\n",
    "num_y = int(num_registros * y / 100)\n",
    "\n",
    "# Crear la columna 'T.1.' y asignar los valores correspondientes:\n",
    "synthetic_data['T.5.'] = None  # Inicializar la columna con valores nulos\n",
    "\n",
    "# Asignar el valor 1 a un porcentaje x de registros aleatorios\n",
    "registros_x = registros_cumplen_normas.sample(num_x)\n",
    "synthetic_data.loc[registros_x.index, 'T.5.'] = 1\n",
    "\n",
    "# Asignar el valor 0 a un porcentaje y de registros aleatorios\n",
    "registros_y = registros_cumplen_normas.drop(registros_x.index).sample(num_y)\n",
    "synthetic_data.loc[registros_y.index, 'T.5.'] = 0"
   ]
  },
  {
   "cell_type": "markdown",
   "id": "62de9d06",
   "metadata": {},
   "source": [
    "## T.6. Ayuda para incentivar el consumo"
   ]
  },
  {
   "cell_type": "code",
   "execution_count": null,
   "id": "52421e34",
   "metadata": {},
   "outputs": [],
   "source": [
    "#Filtrar el dataframe para obtener los registros que cumplen las condiciones especificadas:\n",
    "filtro_edad = (synthetic_data['Edad'] > 20) \n",
    "registros_cumplen_normas = synthetic_data[filtro_edad]\n",
    "\n",
    "#Definir los porcentajes x, y, y z que sumen 100 y representen la proporción de registros que\n",
    "# tendrán los valores 1, 0 y nulo respectivamente:\n",
    "x = 70  # Porcentaje de registros que tendrán el valor 1\n",
    "y = 25  # Porcentaje de registros que tendrán el valor 0\n",
    "z = 100 - x - y  # Porcentaje de registros que tendrán el valor nulo\n",
    "\n",
    "\n",
    "# Obtener una muestra aleatoria de los registros que cumplen las normas para asignarles el valor 1:\n",
    "num_registros = len(registros_cumplen_normas)\n",
    "num_x = int(num_registros * x / 100)\n",
    "num_y = int(num_registros * y / 100)\n",
    "\n",
    "# Crear la columna 'T.1.' y asignar los valores correspondientes:\n",
    "synthetic_data['T.6.'] = None  # Inicializar la columna con valores nulos\n",
    "\n",
    "# Asignar el valor 1 a un porcentaje x de registros aleatorios\n",
    "registros_x = registros_cumplen_normas.sample(num_x)\n",
    "synthetic_data.loc[registros_x.index, 'T.6.'] = 1\n",
    "\n",
    "# Asignar el valor 0 a un porcentaje y de registros aleatorios\n",
    "registros_y = registros_cumplen_normas.drop(registros_x.index).sample(num_y)\n",
    "synthetic_data.loc[registros_y.index, 'T.6.'] = 0"
   ]
  },
  {
   "cell_type": "markdown",
   "id": "6fc2bc4f",
   "metadata": {},
   "source": [
    "## T.7. Ayuda para personas en que viven en zonas rurales"
   ]
  },
  {
   "cell_type": "code",
   "execution_count": null,
   "id": "a6c41852",
   "metadata": {},
   "outputs": [],
   "source": [
    "## Filtrar el dataframe para obtener los registros que cumplen las condiciones especificadas:\n",
    "filtro_edad = (synthetic_data['Edad'] > 20) \n",
    "filtro_ccaa = synthetic_data['Comunidad Autónoma'].isin(['La Rioja', 'Aragón','Castilla-La Mancha', 'Andalucía', 'Islas Baleares','Asturias', 'Región de Murcia', 'Galicia','Ceuta', 'Castilla y León', 'Melilla', 'Canarias', 'Cantabria','Extremadura', 'Comunidad Foral de Navarra'])\n",
    "registros_cumplen_normas = synthetic_data[filtro_edad & filtro_ccaa]\n",
    "\n",
    "#Definir los porcentajes x, y, y z que sumen 100 y representen la proporción de registros que\n",
    "# tendrán los valores 1, 0 y nulo respectivamente:\n",
    "x = 80  # Porcentaje de registros que tendrán el valor 1\n",
    "y = 10  # Porcentaje de registros que tendrán el valor 0\n",
    "z = 100 - x - y  # Porcentaje de registros que tendrán el valor nulo\n",
    "\n",
    "\n",
    "# Obtener una muestra aleatoria de los registros que cumplen las normas para asignarles el valor 1:\n",
    "num_registros = len(registros_cumplen_normas)\n",
    "num_x = int(num_registros * x / 100)\n",
    "num_y = int(num_registros * y / 100)\n",
    "\n",
    "# Crear la columna 'T.1.' y asignar los valores correspondientes:\n",
    "synthetic_data['T.7.'] = None  # Inicializar la columna con valores nulos\n",
    "\n",
    "# Asignar el valor 1 a un porcentaje x de registros aleatorios\n",
    "registros_x = registros_cumplen_normas.sample(num_x)\n",
    "synthetic_data.loc[registros_x.index, 'T.7.'] = 1\n",
    "\n",
    "# Asignar el valor 0 a un porcentaje y de registros aleatorios\n",
    "registros_y = registros_cumplen_normas.drop(registros_x.index).sample(num_y)\n",
    "synthetic_data.loc[registros_y.index, 'T.7.'] = 0"
   ]
  },
  {
   "cell_type": "code",
   "execution_count": null,
   "id": "87239ee9",
   "metadata": {},
   "outputs": [],
   "source": [
    "synthetic_data.info()"
   ]
  },
  {
   "cell_type": "code",
   "execution_count": null,
   "id": "7feb0cf6",
   "metadata": {},
   "outputs": [],
   "source": [
    "synthetic_data#.to_excel('C:/Users/amidonga/Documents/TFG/Datos_Sinteticos_CON_TRAMITES.xlsx',index=False)"
   ]
  },
  {
   "cell_type": "code",
   "execution_count": null,
   "id": "0e057aa9",
   "metadata": {},
   "outputs": [],
   "source": []
  }
 ],
 "metadata": {
  "kernelspec": {
   "display_name": "Python 3 (ipykernel)",
   "language": "python",
   "name": "python3"
  },
  "language_info": {
   "codemirror_mode": {
    "name": "ipython",
    "version": 3
   },
   "file_extension": ".py",
   "mimetype": "text/x-python",
   "name": "python",
   "nbconvert_exporter": "python",
   "pygments_lexer": "ipython3",
   "version": "3.9.13"
  }
 },
 "nbformat": 4,
 "nbformat_minor": 5
}
