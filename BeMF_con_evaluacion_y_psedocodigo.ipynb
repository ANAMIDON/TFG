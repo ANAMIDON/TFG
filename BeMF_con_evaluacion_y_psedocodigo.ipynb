{
 "cells": [
  {
   "cell_type": "markdown",
   "id": "bde8c606",
   "metadata": {},
   "source": [
    "# Importamos las librerías necesarias"
   ]
  },
  {
   "cell_type": "code",
   "execution_count": null,
   "id": "4e1dc220",
   "metadata": {},
   "outputs": [],
   "source": [
    "import numpy as np\n",
    "import pandas as pd\n",
    "from scipy.special import expit\n",
    "from sklearn.metrics.pairwise import cosine_similarity\n",
    "from sklearn.model_selection import KFold"
   ]
  },
  {
   "cell_type": "markdown",
   "id": "989f4bff",
   "metadata": {},
   "source": [
    "# Esquema del código"
   ]
  },
  {
   "cell_type": "markdown",
   "id": "17b60166",
   "metadata": {},
   "source": [
    "R -> rating matrix \\\n",
    "k -> número de factores latentes \\\n",
    "gamma -> learning rate \\\n",
    "eta -> Regularization\\\n",
    "m -> número de iteraciones\\\n",
    "S -> conjunto de valoraciones posibles\\\n",
    "logit -> 1 / (1 + np.exp(-x))"
   ]
  },
  {
   "cell_type": "markdown",
   "id": "cbacb93f",
   "metadata": {},
   "source": [
    "![Ejemplo de imagen PNG](Fact_Bernoulli_Pseudocodigo.png)"
   ]
  },
  {
   "cell_type": "markdown",
   "id": "bbb7d4ca",
   "metadata": {},
   "source": [
    "# Implementación del algoritmo"
   ]
  },
  {
   "cell_type": "code",
   "execution_count": null,
   "id": "f3c78abc",
   "metadata": {},
   "outputs": [],
   "source": [
    "class BernoulliMF_new_v2:\n",
    "    def __init__(self, ratings_matrix, num_users, num_items, num_factors, lr=0.02, reg=0.1, num_epochs=100):\n",
    "        self.ratings_matrix = ratings_matrix\n",
    "        self.num_users = num_users\n",
    "        self.num_items = num_items\n",
    "        self.num_factors = num_factors\n",
    "        self.lr = lr\n",
    "        self.reg = reg\n",
    "        self.num_epochs = num_epochs\n",
    "        #self.scores = scores\n",
    "        \n",
    "    def _logit(self, x):\n",
    "        return expit(x)\n",
    "    \n",
    "    def elementos_no_nulos(self,lista):\n",
    "        no_nulos= []\n",
    "        for i in range(len(lista)):\n",
    "            if lista[i] !=-1:\n",
    "                no_nulos.append(i)\n",
    "        return no_nulos\n",
    "\n",
    "    def usuarios_no_nulos(self,ratings_matrix, item_index):\n",
    "        no_nulos= []\n",
    "        contador = 0\n",
    "        for lista in ratings_matrix:\n",
    "            if lista[item_index] != -1:\n",
    "                no_nulos.append(contador)\n",
    "            contador +=1\n",
    "        return no_nulos\n",
    "\n",
    "    def fit(self):\n",
    "        \n",
    "        # Inicializamos las matrices de factores latentes para el usuario y el ítem para cada valoración\n",
    "        self.user_factors_0 = np.random.randn(self.num_users, self.num_factors)\n",
    "        self.item_factors_0 = np.random.randn(self.num_items, self.num_factors)\n",
    "        \n",
    "        self.user_factors_1 = np.random.randn(self.num_users, self.num_factors)\n",
    "        self.item_factors_1 = np.random.randn(self.num_items, self.num_factors)\n",
    "        \n",
    "        for iteracion in range(self.num_epochs):\n",
    "            for score in [0,1]:\n",
    "                for u in range(self.num_users):\n",
    "                    nonzero_indices = self.elementos_no_nulos(self.ratings_matrix[0])\n",
    "                    Alpha_0 = np.zeros(self.num_factors, dtype=np.float32)\n",
    "                    Alpha_1 = np.zeros(self.num_factors, dtype=np.float32)\n",
    "                    for i in nonzero_indices: \n",
    "                        if self.ratings_matrix[u][i] == score:\n",
    "                            if score == 1:\n",
    "                                Alpha_1 += (1- self._logit(np.dot(self.user_factors_1[u], self.item_factors_1[i])))*self.item_factors_1[i]\n",
    "                            else:\n",
    "                                Alpha_0 += (1- self._logit(np.dot(self.user_factors_0[u], self.item_factors_0[i])))*self.item_factors_0[i]\n",
    "                        else:\n",
    "                            if score == 1:\n",
    "                                Alpha_1 += self._logit(np.dot(self.user_factors_1[u], self.item_factors_1[i]))*self.item_factors_1[i]\n",
    "                            else:\n",
    "                                Alpha_0 += self._logit(np.dot(self.user_factors_0[u], self.item_factors_0[i]))*self.item_factors_0[i]\n",
    "\n",
    "                    if score == 0:\n",
    "                        self.user_factors_0[u] += self.lr*(Alpha_0 - self.reg *self.user_factors_0[u])\n",
    "                    else:\n",
    "                        self.user_factors_1[u] += self.lr*(Alpha_1 - self.reg *self.user_factors_1[u])\n",
    "\n",
    "\n",
    "\n",
    "\n",
    "                for i in range(self.num_items):\n",
    "                    users = self.usuarios_no_nulos(self.ratings_matrix, i)\n",
    "                    Theta_0 = np.zeros(self.num_factors, dtype=np.float32)\n",
    "                    Theta_1 = np.zeros(self.num_factors, dtype=np.float32)\n",
    "                    for u in users: \n",
    "                        if self.ratings_matrix[u][i] == score:\n",
    "                            if score == 1:\n",
    "                                Theta_1 +=(1- self._logit(np.dot(self.user_factors_1[u], self.item_factors_1[i])))*self.user_factors_1[u]\n",
    "                            else:\n",
    "                                Theta_0 +=(1- self._logit(np.dot(self.user_factors_0[u], self.item_factors_0[i])))*self.user_factors_0[u]\n",
    "                        else:\n",
    "                            if score == 1:\n",
    "                                Theta_1 += self._logit(np.dot(self.user_factors_1[u], self.item_factors_1[i]))*self.user_factors_1[u]\n",
    "                            else:\n",
    "                                Theta_0 += self._logit(np.dot(self.user_factors_0[u], self.item_factors_0[i]))*self.user_factors_0[u]\n",
    "\n",
    "                    if score == 1:\n",
    "                        self.item_factors_1[i] +=self.lr*(Theta_1 - self.reg *self.item_factors_1[i])\n",
    "                    else:\n",
    "                        self.item_factors_0[i] +=self.lr*(Theta_0 - self.reg *self.item_factors_0[i])\n",
    "                        \n",
    "                        \n",
    "                        \n",
    "    def get_prob_vector(self,u,i):\n",
    "        pred1 =self._logit(np.dot(self.user_factors_1[u], self.item_factors_1[i]))\n",
    "        pred0 =self._logit(np.dot(self.user_factors_0[u], self.item_factors_0[i]))\n",
    "        suma = pred0 +pred1\n",
    "        pred0 = pred0 /suma\n",
    "        pred1 = pred1 /suma\n",
    "        return pred0,pred1    \n",
    "    \n",
    "    def predict(self,u,i):\n",
    "        pred1 =self._logit(np.dot(self.user_factors_1[u], self.item_factors_1[i]))\n",
    "        pred0 =self._logit(np.dot(self.user_factors_0[u], self.item_factors_0[i]))\n",
    "        suma = pred0 +pred1\n",
    "        pred0 = pred0 /suma\n",
    "        pred1 = pred1 /suma\n",
    "        if pred0> pred1:\n",
    "            return 0\n",
    "        else:\n",
    "            return 1\n",
    "    \n",
    "                        \n",
    "        "
   ]
  },
  {
   "cell_type": "markdown",
   "id": "5bdb5d3f",
   "metadata": {},
   "source": [
    "# Importamos los datos "
   ]
  },
  {
   "cell_type": "code",
   "execution_count": null,
   "id": "9f93b89d",
   "metadata": {},
   "outputs": [],
   "source": [
    "df_datos = pd.read_excel('C:/Users/amidonga/Documents/TFG/Datos_Sinteticos_CON_TRAMITES.xlsx')"
   ]
  },
  {
   "cell_type": "markdown",
   "id": "10e4f5c0",
   "metadata": {},
   "source": [
    "## Rellenamos los valores nulos con -1"
   ]
  },
  {
   "cell_type": "code",
   "execution_count": null,
   "id": "4fc12cee",
   "metadata": {},
   "outputs": [],
   "source": [
    "df_datos.fillna(-1,inplace= True)"
   ]
  },
  {
   "cell_type": "markdown",
   "id": "3bfb0679",
   "metadata": {},
   "source": [
    "### Calculamos los n usuarios más parecidos a un usuario concreto"
   ]
  },
  {
   "cell_type": "code",
   "execution_count": null,
   "id": "301017b0",
   "metadata": {},
   "outputs": [],
   "source": [
    "def calcular_usuarios_similares(df, usuario_concreto, n):\n",
    "    # Filtrar el dataframe por las características relevantes para el cálculo de similitud\n",
    "    features = ['Edad', 'Procedencia', 'Sexo', 'Situación de dependencia', 'Sector económico',\n",
    "                'Renta anual neta', 'Estado civil', 'Número de hijos']\n",
    "    df_filt = df[features].copy()\n",
    "\n",
    "    # Codificar las variables categóricas utilizando one-hot encoding\n",
    "    df_encoded = pd.get_dummies(df_filt)\n",
    "    # Obtener el índice del usuario concreto\n",
    "    idx_usuario_concreto = df_filt.index[df_filt.index == usuario_concreto]\n",
    "    \n",
    "    # Calcular la similitud del coseno entre el usuario concreto y todos los demás usuarios\n",
    "    similarities = cosine_similarity(df_encoded.iloc[idx_usuario_concreto], df_encoded)\n",
    "\n",
    "    # Obtener los índices de los usuarios más similares (excluyendo al usuario concreto)\n",
    "    similar_users_indices = np.argsort(similarities[0])[::-1][:n]\n",
    "    \n",
    "    # Agregar el índice del usuario concreto al conjunto de usuarios similares\n",
    "    #similar_users_indices = np.concatenate((idx_usuario_concreto, similar_users_indices))\n",
    "\n",
    "    # Obtener los datos de los usuarios más similares\n",
    "    similar_users = df.loc[similar_users_indices]\n",
    "\n",
    "    return similar_users\n"
   ]
  },
  {
   "cell_type": "markdown",
   "id": "ee58c1b6",
   "metadata": {},
   "source": [
    "### Función para preparar la matriz de valoraciones a partir del dataframe de datos"
   ]
  },
  {
   "cell_type": "code",
   "execution_count": null,
   "id": "1718c93c",
   "metadata": {},
   "outputs": [],
   "source": [
    "def crear_ratings_matrix(df):    \n",
    "    # Obtén el número de filas y columnas\n",
    "    num_rows, num_cols = df.shape\n",
    "    # Crea una matriz de tamaño adecuado, inicializada con None\n",
    "    ratings_matrix = np.full((num_rows, num_cols),None, dtype=object)\n",
    "\n",
    "    # Itera sobre las filas del dataframe\n",
    "    for row_idx, row in df.iterrows():\n",
    "        # Itera sobre las columnas del dataframe\n",
    "        for col_idx, col_label in enumerate(df.columns):\n",
    "            # Obtiene el valor de la celda\n",
    "            value = row[col_label]\n",
    "            # Si el valor no es NaN, colócalo en la matriz\n",
    "            if not pd.isnull(value):\n",
    "                ratings_matrix[row_idx, col_idx] = int(value)\n",
    "        \n",
    "    return ratings_matrix\n"
   ]
  },
  {
   "cell_type": "markdown",
   "id": "6ee5bdb1",
   "metadata": {},
   "source": [
    "# Ejemplo de uso concreto"
   ]
  },
  {
   "cell_type": "code",
   "execution_count": null,
   "id": "2f808527",
   "metadata": {
    "scrolled": true
   },
   "outputs": [],
   "source": [
    "### BIEN la valoración es 1 ->0\n",
    "\n",
    "\n",
    "usuario= 90\n",
    "item = 1 #empieza en 0 para predict 1=0\n",
    "# Calculamos los 200 usuarios más similares al usuario elegido.\n",
    "usuarios_similares = calcular_usuarios_similares(df_datos, usuario_concreto = usuario, n=200)\n",
    "\n",
    "# Creamos la matriz de valoraciones de estos usuarios\n",
    "df_ratings_matrix = usuarios_similares[['T.1.', 'T.2.', 'T.3.', 'T.4.','T.5.', 'T.6.', 'T.7.']]\n",
    "df_ratings_matrix.reset_index(inplace=True)\n",
    "df_ratings_matrix=df_ratings_matrix[['T.1.', 'T.2.', 'T.3.', 'T.4.','T.5.', 'T.6.', 'T.7.']]\n",
    "ratings_matrix_u=crear_ratings_matrix(df_ratings_matrix)\n",
    "\n",
    "\n",
    "# Ajustamos el modelo\n",
    "bemf_model = BernoulliMF_new_v2(ratings_matrix=ratings_matrix_u, num_users=200, num_items=7, num_factors=10, lr=0.02, reg=0.1, num_epochs=100)\n",
    "    \n",
    "# Actualizaciones del proceso\n",
    "bemf_model.fit()\n",
    "\n",
    "# predicción \n",
    "prediction = bemf_model.predict(0, item-1)\n",
    "prediction\n",
    "\n",
    "\n",
    "# print('La predicción para el usuario',usuario,'y el item',item,'es la valoración',prediction-1,'con probabilidad',probabilidad)"
   ]
  },
  {
   "cell_type": "markdown",
   "id": "91eeaf38",
   "metadata": {},
   "source": [
    "# Función para automatizar la predicción "
   ]
  },
  {
   "cell_type": "code",
   "execution_count": null,
   "id": "e2d31939",
   "metadata": {},
   "outputs": [],
   "source": [
    "def prediccion(usuario,item, df_para_usuarios_similares): # usuarios de 0 a n (indices tabla).  Item 0 se corresponde con el 1\n",
    "    # Tomamos los 200 usuarios más similares a él\n",
    "    usuarios_similares = calcular_usuarios_similares(df_para_usuarios_similares, usuario_concreto = usuario, n=350)\n",
    "    df_ratings_matrix = usuarios_similares[['T.1.', 'T.2.', 'T.3.', 'T.4.','T.5.', 'T.6.', 'T.7.']]\n",
    "    df_ratings_matrix.reset_index(inplace=True)\n",
    "    df_ratings_matrix=df_ratings_matrix[['T.1.', 'T.2.', 'T.3.', 'T.4.','T.5.', 'T.6.', 'T.7.']]\n",
    "    \n",
    "    # Creamos la matriz asociada a este dataframe\n",
    "    ratings_matrix_u=crear_ratings_matrix(df_ratings_matrix)\n",
    "    \n",
    "    # Ajustamos el modelo\n",
    "    possible_scores = [1,2]\n",
    "    user_ids = list(range(0,350))  # Lista de ID de usuarios\n",
    "    item_ids = [1,2,3,4,5,6,7]  # Lista de ID de elementos\n",
    "    num_factors = 10\n",
    "    num_iters = 100\n",
    "    learning_rate = 0.02 \n",
    "    regularisation = 0.1\n",
    "    seed = 42\n",
    "\n",
    "    bemf_model = BernoulliMF_new_v2(ratings_matrix=ratings_matrix_u, num_users=350, num_items=7, num_factors=10, lr=0.02, reg=0.1, num_epochs=100)\n",
    "    \n",
    "    # Actualizaciones del proceso\n",
    "    bemf_model.fit()\n",
    "    \n",
    "    # predicción \n",
    "    prediction = bemf_model.predict(0, item -1)\n",
    "    \n",
    "    return prediction"
   ]
  },
  {
   "cell_type": "markdown",
   "id": "e73c90fc",
   "metadata": {},
   "source": [
    "## Estuadiamos el rendimiento del modelo"
   ]
  },
  {
   "cell_type": "markdown",
   "id": "324de0f3",
   "metadata": {},
   "source": [
    "### Accuracy True/False"
   ]
  },
  {
   "cell_type": "markdown",
   "id": "cca2bf26",
   "metadata": {},
   "source": [
    "Calculamos la mtriz de valoraciones general"
   ]
  },
  {
   "cell_type": "code",
   "execution_count": null,
   "id": "241968d6",
   "metadata": {},
   "outputs": [],
   "source": [
    "ratings_matrix_general = crear_ratings_matrix(df_datos[['T.1.', 'T.2.', 'T.3.', 'T.4.','T.5.', 'T.6.', 'T.7.']])"
   ]
  },
  {
   "cell_type": "markdown",
   "id": "6ac0c35a",
   "metadata": {},
   "source": [
    "Estudiamos el redimiento calculando la predicción sobre las valoraciones de las que ya tenemos datos"
   ]
  },
  {
   "cell_type": "markdown",
   "id": "859b5ef1",
   "metadata": {},
   "source": [
    "## Automatizamos la evaluación del modelo"
   ]
  },
  {
   "cell_type": "code",
   "execution_count": null,
   "id": "2e330db4",
   "metadata": {},
   "outputs": [],
   "source": [
    "def evaluar_modelo(ratings_matrix_general,df_para_usuarios_similares, n_usuarios): # u en 0-n-1\n",
    "    accuracies = []\n",
    "    confusion_matrix = np.zeros((2, 2), dtype=int)\n",
    "    TP= 0\n",
    "    FP= 0\n",
    "    FN = 0\n",
    "    for u in range(n_usuarios):\n",
    "        for i in range(7):\n",
    "            valor_real = ratings_matrix_general[u][i]\n",
    "            if valor_real != -1:\n",
    "                prediction =prediccion(u,i+1,df_para_usuarios_similares)\n",
    "                print('valor',valor_real)\n",
    "                print('prediccion',prediction)\n",
    "                accuracies.append(prediction==valor_real)\n",
    "                confusion_matrix[valor_real, prediction] += 1\n",
    "                if (valor_real == 1) &(prediction == 1):\n",
    "                    TP +=1\n",
    "                elif (valor_real == 0) &(prediction == 1):\n",
    "                    FP +=1\n",
    "                elif(valor_real == 1) &(prediction == 0):\n",
    "                    FN +=1\n",
    "\n",
    "    confusion_matrix_percent = np.round(confusion_matrix.astype(float) / confusion_matrix.sum(axis=1, keepdims=True) * 100, 2)\n",
    "    acc = accuracies.count(True)*100/len(accuracies)\n",
    "    \n",
    "    # F1 score\n",
    "    F1 = TP/(TP+0.5*(FP+FN))\n",
    "    # Configurar el formato de impresión\n",
    "    np.set_printoptions(formatter={'float': lambda x: \"{:.2f}\".format(x)})\n",
    "\n",
    "    return acc,confusion_matrix_percent,F1"
   ]
  },
  {
   "cell_type": "markdown",
   "id": "bf5bc884",
   "metadata": {},
   "source": [
    "# Evaluación del sistema sobre un muestreo aleatorio\n",
    "Para seleccionar un subconjunto aleatorio, utilizamos la función sample() de pandas.El parámetro \"n\" indica el número de muestras aleatorias que deseas seleccionar"
   ]
  },
  {
   "cell_type": "code",
   "execution_count": null,
   "id": "212cfdc5",
   "metadata": {},
   "outputs": [],
   "source": [
    "df_datos_subset = df_datos.sample(n=100).reset_index()"
   ]
  },
  {
   "cell_type": "markdown",
   "id": "5ecdf792",
   "metadata": {},
   "source": [
    "Evaluamos el modelo sobre el subconjunto de datos seleccionado. Utilizamos aún así el conjunto de datos completo para calcular los usuarios similares de cada usuario."
   ]
  },
  {
   "cell_type": "code",
   "execution_count": null,
   "id": "c60ddfa0",
   "metadata": {},
   "outputs": [],
   "source": [
    "ratings_matrix_general_subset = crear_ratings_matrix(df_datos_subset[['T.1.', 'T.2.', 'T.3.', 'T.4.','T.5.', 'T.6.', 'T.7.']])"
   ]
  },
  {
   "cell_type": "code",
   "execution_count": null,
   "id": "1c83a5b4",
   "metadata": {
    "scrolled": true
   },
   "outputs": [],
   "source": [
    "evaluar_modelo(ratings_matrix_general=ratings_matrix_general_subset,df_para_usuarios_similares = df_datos, n_usuarios=100)"
   ]
  },
  {
   "cell_type": "markdown",
   "id": "3a6a4f65",
   "metadata": {},
   "source": [
    "# Evaluación sobre los usuarios más activos\n",
    "Calculamos el número de evaluaciones que ha realizado cada usuario. Tomaremos solo aquellos usuarios que hayan valorado más de tres items para llevar a cabo la evaluación de nuestro modelo."
   ]
  },
  {
   "cell_type": "code",
   "execution_count": null,
   "id": "23ec151a",
   "metadata": {},
   "outputs": [],
   "source": [
    "# Añadimos una variable que indica el número de evaluaciones realizadas por cada usuario\n",
    "df_datos['num_evaluations'] = df_datos[['T.1.', 'T.2.', 'T.3.', 'T.4.','T.5.', 'T.6.', 'T.7.']].notnull().sum(axis=1)\n",
    "\n",
    "# Tomamos solo aquellos usuarios con más de tres valoraciones.\n",
    "df_datos_mas3_valoraciones =df_datos[df_datos['num_evaluations']>3][['Comunidad Autónoma', 'Edad', 'Procedencia', 'Sexo',\n",
    "       'Situación de dependencia', 'Sector económico', 'Renta anual neta',\n",
    "       'Estado civil', 'Número de hijos', 'T.1.', 'T.2.', 'T.3.', 'T.4.',\n",
    "       'T.5.', 'T.6.', 'T.7.']].reset_index()\n",
    "\n",
    "# Tomamos un subconjunto de los usuarios más activos\n",
    "df_activos_subset = df_datos_mas3_valoraciones.sample(n=100).reset_index()\n"
   ]
  },
  {
   "cell_type": "markdown",
   "id": "fc6a1dab",
   "metadata": {},
   "source": [
    "Evaluamos el modelo sobre el subconjunto de datos seleccionado. Utilizamos el conjunto de usuarios más activos para calcular los usuarios similares."
   ]
  },
  {
   "cell_type": "code",
   "execution_count": null,
   "id": "73b0efcd",
   "metadata": {},
   "outputs": [],
   "source": [
    "ratings_matrix_activos_subset = crear_ratings_matrix(df_activos_subset[['T.1.', 'T.2.', 'T.3.', 'T.4.','T.5.', 'T.6.', 'T.7.']])"
   ]
  },
  {
   "cell_type": "code",
   "execution_count": null,
   "id": "5ffb3626",
   "metadata": {},
   "outputs": [],
   "source": [
    "evaluar_modelo(ratings_matrix_general=ratings_matrix_activos_subset,df_para_usuarios_similares = df_datos_mas3_valoraciones, n_usuarios=100)"
   ]
  },
  {
   "cell_type": "code",
   "execution_count": null,
   "id": "bdcafdab",
   "metadata": {},
   "outputs": [],
   "source": []
  }
 ],
 "metadata": {
  "kernelspec": {
   "display_name": "Python 3 (ipykernel)",
   "language": "python",
   "name": "python3"
  },
  "language_info": {
   "codemirror_mode": {
    "name": "ipython",
    "version": 3
   },
   "file_extension": ".py",
   "mimetype": "text/x-python",
   "name": "python",
   "nbconvert_exporter": "python",
   "pygments_lexer": "ipython3",
   "version": "3.9.13"
  }
 },
 "nbformat": 4,
 "nbformat_minor": 5
}
